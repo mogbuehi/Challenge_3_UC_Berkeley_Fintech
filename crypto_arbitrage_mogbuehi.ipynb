{
 "cells": [
  {
   "cell_type": "markdown",
   "metadata": {},
   "source": [
    "## Crypto Arbitrage\n",
    "\n",
    "This Python Notebook seeks to sort through historical trade data for Bitcoin on two exchanges: Bitstamp and Coinbase to look for profitable arbitrage opportunities on Bitcoin (BTC) price.\n",
    "\n",
    "This aspect of the Challenge will consists of 3 phases: \n",
    "\n",
    "1. Data Collection\n",
    "\n",
    "2. Data Prep.\n",
    "\n",
    "3. Data Analysis. \n",
    "\n"
   ]
  },
  {
   "cell_type": "markdown",
   "metadata": {},
   "source": [
    "## Collect the Data\n",
    "\n",
    "1. Convert csv files containing BTC price data from Coinbase and Bitstamp.\n",
    "\n",
    "2. Check first few entries of the resulting dataframe."
   ]
  },
  {
   "cell_type": "code",
   "execution_count": null,
   "metadata": {},
   "outputs": [],
   "source": [
    "# Importing Pandas and Pathlib library.\n",
    "import pandas as pd\n",
    "from pathlib import Path\n",
    "# allows for displaying and imbedding of plots into notebook\n",
    "%matplotlib inline "
   ]
  },
  {
   "cell_type": "code",
   "execution_count": null,
   "metadata": {},
   "outputs": [],
   "source": [
    "# Reads in the CSV file called \"bitstamp.csv\" and creates a dataframe with \"Timestamp\" column formatted and set as the index \n",
    "csvpath = 'Resources/bitstamp.csv'\n",
    "bitstamp = pd.read_csv(csvpath, index_col='Timestamp', parse_dates=True, infer_datetime_format=True)\n",
    "\n"
   ]
  },
  {
   "cell_type": "code",
   "execution_count": null,
   "metadata": {},
   "outputs": [],
   "source": [
    "# Printing head and tail to check for import accuracy\n",
    "print(bitstamp.head())\n",
    "print(bitstamp.tail())"
   ]
  },
  {
   "cell_type": "code",
   "execution_count": null,
   "metadata": {},
   "outputs": [],
   "source": [
    "# Reads in the CSV file called \"coinbase.csv\" and creates a dataframe with \"Timestamp\" column formatted and set as the index \n",
    "csvpath = 'Resources/coinbase.csv'\n",
    "coinbase = pd.read_csv(csvpath, index_col='Timestamp', parse_dates=True, infer_datetime_format=True)\n",
    "\n"
   ]
  },
  {
   "cell_type": "code",
   "execution_count": null,
   "metadata": {},
   "outputs": [],
   "source": [
    "# Printing head and tail to check for import accuracy\n",
    "print(coinbase.head())\n",
    "print(coinbase.tail())"
   ]
  },
  {
   "cell_type": "markdown",
   "metadata": {},
   "source": [
    "## Prepare the Data\n",
    "\n",
    "1. Drop all NaN values, replace any \n",
    "\n",
    "2. \"$\" with strings\n",
    "\n",
    "3. Convert values to floats"
   ]
  },
  {
   "cell_type": "code",
   "execution_count": null,
   "metadata": {},
   "outputs": [],
   "source": [
    "# For the bitstamp DataFrame, replace or drop all NaNs or missing values in the DataFrame\n",
    "bitstamp.dropna()"
   ]
  },
  {
   "cell_type": "code",
   "execution_count": null,
   "metadata": {},
   "outputs": [],
   "source": [
    "# Replacing all \"$\" with empty character \"\"\n",
    "bitstamp['Close'] = bitstamp['Close'].str.replace('$','')"
   ]
  },
  {
   "cell_type": "code",
   "execution_count": null,
   "metadata": {},
   "outputs": [],
   "source": [
    "# Convert the Close data type to a float\n",
    "bitstamp['Close'] = bitstamp['Close'].astype('float')"
   ]
  },
  {
   "cell_type": "code",
   "execution_count": null,
   "metadata": {},
   "outputs": [],
   "source": [
    "# Review the data for duplicate values, and drop them if necessary\n",
    "print(f'The number of duplicated rows in `bitstamp` dataframe before `drop_duplicates()` function is {bitstamp.duplicated().sum()}')\n",
    "bitstamp = bitstamp.drop_duplicates()\n",
    "print(f'The number of duplicated rows in `bitstamp` dataframe after `drop_duplicates()` function is {bitstamp.duplicated().sum()}')"
   ]
  },
  {
   "cell_type": "code",
   "execution_count": null,
   "metadata": {},
   "outputs": [],
   "source": [
    "# Repeat above code blocks for the coinbase DataFrame\n",
    "coinbase.dropna()\n",
    "coinbase['Close'] = coinbase['Close'].str.replace('$','')\n",
    "coinbase['Close'] = coinbase['Close'].astype('float')\n",
    "print(f'The number of duplicated rows in `bitcoin` dataframe before `drop_duplicates()` function is {coinbase.duplicated().sum()}')\n",
    "coinbase = coinbase.drop_duplicates()\n",
    "print(f'The number of duplicated rows in `bitcoin` dataframe after `drop_duplicates()` function is {coinbase.duplicated().sum()}')"
   ]
  },
  {
   "cell_type": "markdown",
   "metadata": {},
   "source": [
    "## Analyze the Data\n",
    "\n",
    "1. Choose the columns of data on which to focus the analysis.\n",
    "\n",
    "2. Summarize the statistics and plot the data.\n",
    "\n",
    "3. Analyze three on specific dates.\n",
    "\n",
    "4. Calculate the arbitrage profits."
   ]
  },
  {
   "cell_type": "code",
   "execution_count": null,
   "metadata": {},
   "outputs": [],
   "source": [
    "# Use loc or iloc to select `Timestamp (the index)` and `Close` from bitstamp DataFrame and review first 5 rows\n",
    "bitstamp_sliced = bitstamp.loc['2017-01-01 00:00:00':, 'Close' ]\n",
    "bitstamp_sliced.head()"
   ]
  },
  {
   "cell_type": "code",
   "execution_count": null,
   "metadata": {},
   "outputs": [],
   "source": [
    "# Use loc or iloc to select `Timestamp (the index)` and `Close` from coinbase DataFrame and review first 5 rows\n",
    "coinbase_sliced = coinbase.loc['2017-01-01 00:00:00':, 'Close' ]\n",
    "coinbase_sliced.head()"
   ]
  },
  {
   "cell_type": "code",
   "execution_count": null,
   "metadata": {},
   "outputs": [],
   "source": [
    "# Generate the summary statistics for the bitstamp DataFrame\n",
    "bitstamp_sliced.describe()\n"
   ]
  },
  {
   "cell_type": "code",
   "execution_count": null,
   "metadata": {},
   "outputs": [],
   "source": [
    "# Generate the summary statistics for the coinbase DataFrame\n",
    "coinbase_sliced.describe()"
   ]
  },
  {
   "cell_type": "code",
   "execution_count": null,
   "metadata": {},
   "outputs": [],
   "source": [
    "# Create a line plot for the bitstamp DataFrame for the full length of time in the dataset \n",
    "bitstamp_sliced.plot(title='Bitstamp BTC Close prices from 2017 to beginning of 2019', figsize=(15,7), fontsize=17, \n",
    "                     xlabel='Time (data is representative of every hour)',\n",
    "                     ylabel='BTC Close Prices in Dollars')"
   ]
  },
  {
   "cell_type": "code",
   "execution_count": null,
   "metadata": {},
   "outputs": [],
   "source": [
    "# Create a line plot for the coinbase DataFrame for the full length of time in the dataset \n",
    "coinbase_sliced.plot(title='Coinbase BTC Close prices from 2017 to beginning of 2019', figsize=(15,7), fontsize=17, \n",
    "                     xlabel='Time (data is representative of every hour)',\n",
    "                     ylabel='BTC Close Prices in Dollars', color='red')"
   ]
  },
  {
   "cell_type": "code",
   "execution_count": null,
   "metadata": {},
   "outputs": [],
   "source": [
    "# Overlay the visualizations for the bitstamp and coinbase DataFrames in one plot\n",
    "coinbase_sliced.plot(figsize=(16,8), fontsize=17, xlabel='Time (data is representative of every hour)',\n",
    "                     ylabel='BTC Close Prices in Dollars', color='red', label='Coinbase BTC', legend=True)\n",
    "\n",
    "bitstamp_sliced.plot(title='Bitstamp BTC Close vs Coinbase BTC Close', figsize=(16,8), fontsize=17, \n",
    "                     xlabel='Time (data is representative of every hour)',\n",
    "                     ylabel='BTC Close Prices in Dollars', label='Bitstamp BTC', legend=True)"
   ]
  },
  {
   "cell_type": "code",
   "execution_count": null,
   "metadata": {},
   "outputs": [],
   "source": [
    "# Using the loc and plot functions, create an overlay plot that visualizes \n",
    "# the price action of both DataFrames for a one month period early in the dataset\n",
    "coinbase_sliced_month = coinbase.loc['2017-04-01 00:00:00':'2017-05-01 00:00:00', 'Close' ]\n",
    "bitstamp_sliced_month = bitstamp.loc['2017-04-01 00:00:00':'2017-05-01 00:00:00', 'Close' ]\n",
    "\n",
    "coinbase_sliced_month.plot(figsize=(16,8), fontsize=17, xlabel='Time (data is representative of every hour)',\n",
    "                     ylabel='BTC Close Prices in Dollars', color='red', label='Coinbase BTC', legend=True)\n",
    "\n",
    "bitstamp_sliced_month.plot(title='Bitstamp BTC Close vs Coinbase BTC Close(Earlier time period)', figsize=(16,8), \n",
    "                           fontsize=17, xlabel='Time (data is representative of every hour)',\n",
    "                     ylabel='BTC Close Prices in Dollars', label='Bitstamp BTC', legend=True)"
   ]
  },
  {
   "cell_type": "code",
   "execution_count": null,
   "metadata": {},
   "outputs": [],
   "source": [
    "# Using the loc and plot functions, create an overlay plot that visualizes \n",
    "# the price action of both DataFrames for a one month period later in the dataset\n",
    "coinbase_sliced_month = coinbase.loc['2017-12-01 00:00:00':'2018-01-01 00:00:00', 'Close' ]\n",
    "bitstamp_sliced_month = bitstamp.loc['2017-12-01 00:00:00':'2018-01-01 00:00:00', 'Close' ]\n",
    "\n",
    "coinbase_sliced_month.plot(figsize=(16,8), fontsize=17, xlabel='Time (data is representative of every hour)',\n",
    "                     ylabel='BTC Close Prices in Dollars', color='red', label='Coinbase BTC', legend=True)\n",
    "\n",
    "bitstamp_sliced_month.plot(title='Bitstamp BTC Close vs Coinbase BTC Close(Later)', figsize=(16,8), fontsize=17, \n",
    "                           xlabel='Time (data is representative of every hour)',\n",
    "                     ylabel='BTC Close Prices in Dollars', label='Bitstamp BTC', legend=True)"
   ]
  },
  {
   "cell_type": "code",
   "execution_count": null,
   "metadata": {},
   "outputs": [],
   "source": [
    "# Extra added code block to aid in visualization of the spread\n",
    "spread = coinbase_sliced - bitstamp_sliced\n",
    "spread.plot(figsize=(16,8), title='Coinbase-Bitstamp spread', ylabel='Difference in Dollars of Coinbase BTC from Bitstamp BTC price', \n",
    "            xlabel='Time (data collected every hour)')"
   ]
  },
  {
   "cell_type": "markdown",
   "metadata": {},
   "source": [
    "**Question** Based on the visualizations of the different time periods, has the degree of spread change as time progressed?\n",
    "\n",
    "**Answer** Based purely on the visualization (see graph of the spread above) the spread has decreased as time progressed from the beginning of 2017 to the beginning of 2019.  One hypothesis could be the increased volume and adoption of cryptocurrency helped to stabilize the price difference between both exchanges. "
   ]
  },
  {
   "cell_type": "code",
   "execution_count": null,
   "metadata": {},
   "outputs": [],
   "source": [
    "# Create an overlay plot that visualizes the two dataframes over a period of one day early in the dataset \n",
    "coinbase_sliced_early = coinbase.loc['2017-04-15 00:00:00':'2017-04-16 00:00:00', 'Close' ]\n",
    "bitstamp_sliced_early = bitstamp.loc['2017-04-15 00:00:00':'2017-04-16 00:00:00', 'Close' ]\n",
    "\n",
    "coinbase_sliced_early.plot(figsize=(16,8), fontsize=8, xlabel='Time (data is representative of every hour)',\n",
    "                               ylabel='BTC Close Prices in Dollars', color='red', label='Coinbase BTC', legend=True, )\n",
    "\n",
    "bitstamp_sliced_early.plot(title='Bitstamp BTC Close vs Coinbase BTC Close (April 15, 2017)', figsize=(16,8), \n",
    "                               fontsize=8, xlabel='Time (data is representative of every hour)', \n",
    "                           ylabel='BTC Close Prices in Dollars', label='Bitstamp BTC', legend=True, )"
   ]
  },
  {
   "cell_type": "code",
   "execution_count": null,
   "metadata": {
    "tags": []
   },
   "outputs": [],
   "source": [
    "# Calculate the arbitrage spread from the early time period and generate summary stats\n",
    "arbitrage_spread_early = coinbase_sliced_early - bitstamp_sliced_early\n",
    "print('April 15, 2017 summary stats of spread (Early)')\n",
    "arbitrage_spread_early.describe()\n"
   ]
  },
  {
   "cell_type": "code",
   "execution_count": null,
   "metadata": {},
   "outputs": [],
   "source": [
    "# Visualize the arbitrage spread from early in the dataset in a box plot\n",
    "arbitrage_spread_early.plot(kind='box', title='Coinbase-Bitstamp spread on April 15, 2017 (Early)', figsize=(4,8), \n",
    "                            ylabel='Difference in dollars of Coinbase BTC from Bitstamp BTC price')"
   ]
  },
  {
   "cell_type": "code",
   "execution_count": null,
   "metadata": {},
   "outputs": [],
   "source": [
    "# Create an overlay plot that visualizes the two dataframes over a period of one day from the middle of the dataset. \n",
    "coinbase_sliced_mid = coinbase.loc['2017-12-07 00:00:00':'2017-12-08 00:00:00', 'Close' ]\n",
    "bitstamp_sliced_mid = bitstamp.loc['2017-12-07 00:00:00':'2017-12-08 00:00:00', 'Close' ]\n",
    "\n",
    "coinbase_sliced_mid.plot(figsize=(16,8), fontsize=8, xlabel='Time (data is representative of every hour)',\n",
    "                               ylabel='BTC Close Prices in Dollars', color='red', label='Coinbase BTC', legend=True)\n",
    "\n",
    "bitstamp_sliced_mid.plot(title='Bitstamp BTC Close vs Coinbase BTC Close(December 7, 2017)', figsize=(16,8), \n",
    "                               fontsize=8, xlabel='Time (data is representative of every hour)', ylabel='BTC Close Prices in Dollars', \n",
    "                               label='Bitstamp BTC', legend=True)"
   ]
  },
  {
   "cell_type": "code",
   "execution_count": null,
   "metadata": {},
   "outputs": [],
   "source": [
    "# Calculate the arbitrage spread from the middle time period and generate summary stats\n",
    "arbitrage_spread_mid = coinbase_sliced_mid - bitstamp_sliced_mid\n",
    "# Generate summary statistics for the middle DataFrame\n",
    "# YOUR CODE HERE\n",
    "print('December 7, 2017 summary stats of spread (Mid)')\n",
    "arbitrage_spread_mid.describe()"
   ]
  },
  {
   "cell_type": "code",
   "execution_count": null,
   "metadata": {},
   "outputs": [],
   "source": [
    "# Visualize the arbitrage spread from the middle of the dataset in a box plot\n",
    "arbitrage_spread_mid.plot(kind='box', title='Coinbase-Bitstamp spread on December 7, 2017, 2017 (Mid)', figsize=(4,8), \n",
    "                            ylabel='Difference in dollars of Coinbase BTC from Bitstamp BTC price')"
   ]
  },
  {
   "cell_type": "code",
   "execution_count": null,
   "metadata": {},
   "outputs": [],
   "source": [
    "# Create an overlay plot that visualizes the two dataframes over a period of one day from late in the dataset\n",
    "coinbase_sliced_late = coinbase.loc['2017-12-19 00:00:00':'2017-12-20 00:00:00', 'Close' ]\n",
    "bitstamp_sliced_late = bitstamp.loc['2017-12-19 00:00:00':'2017-12-20 00:00:00', 'Close' ]\n",
    "\n",
    "coinbase_sliced_late.plot(figsize=(16,8), fontsize=8, xlabel='Time (data is representative of every hour)',\n",
    "                               ylabel='BTC Close Prices in Dollars', color='red', label='Coinbase BTC', legend=True)\n",
    "\n",
    "bitstamp_sliced_late.plot(title='Bitstamp BTC Close vs Coinbase BTC Close (December 19, 2017)', figsize=(16,8), \n",
    "                               fontsize=8, xlabel='Time (data is representative of every hour)', ylabel='BTC Close Prices in Dollars', \n",
    "                               label='Bitstamp BTC', legend=True)"
   ]
  },
  {
   "cell_type": "code",
   "execution_count": null,
   "metadata": {},
   "outputs": [],
   "source": [
    "# Calculate the arbitrage spread from the late time period and generate summary stats\n",
    "arbitrage_spread_late = coinbase_sliced_late - bitstamp_sliced_late\n",
    "print('December 19, 2017 summary stats of spread (Late)')\n",
    "arbitrage_spread_late.describe()"
   ]
  },
  {
   "cell_type": "code",
   "execution_count": null,
   "metadata": {},
   "outputs": [],
   "source": [
    "# Visualize the arbitrage spread from late in the dataset in a box plot\n",
    "arbitrage_spread_late.plot(kind='box', title='Coinbase-Bitstamp spread on December 19, 2017, 2017 (Late)', figsize=(4,8), \n",
    "                            ylabel='Difference in dollars of Coinbase BTC from Bitstamp BTC price')"
   ]
  },
  {
   "cell_type": "code",
   "execution_count": null,
   "metadata": {},
   "outputs": [],
   "source": [
    "# For the date early in the dataset, measure the arbitrage spread between the two exchanges\n",
    "# by subtracting the lower-priced exchange from the higher-priced one.\n",
    "arbitrage_spread_early = coinbase_sliced_early - bitstamp_sliced_early\n",
    "# Filter for only those spreads that are profitable (ie greater than 0)\n",
    "filter_arb_early = arbitrage_spread_early > 0\n",
    "print ('Profitable spread stats (greater than 0) from April 15, 2017 (Early)')\n",
    "profit_early = arbitrage_spread_early.loc[filter_arb_early]\n",
    "profit_early.describe()\n"
   ]
  },
  {
   "cell_type": "code",
   "execution_count": null,
   "metadata": {},
   "outputs": [],
   "source": [
    "# For the from the middle of the dataset, measure the arbitrage spread between the two exchanges\n",
    "# by subtracting the lower-priced exchange from the higher-priced one\n",
    "arbitrage_spread_mid = coinbase_sliced_mid - bitstamp_sliced_mid\n",
    "\n",
    "# Filter for only those spreads that are profitable (ie greater than 0)\n",
    "filter_arb_mid = arbitrage_spread_mid > 0\n",
    "print ('Profitable spread stats (greater than 0) from December 7, 2017 (Mid)')\n",
    "profit_mid = arbitrage_spread_mid.loc[filter_arb_mid]\n",
    "profit_mid.describe()\n",
    "\n"
   ]
  },
  {
   "cell_type": "code",
   "execution_count": null,
   "metadata": {},
   "outputs": [],
   "source": [
    "# For the date late in the dataset, measure the arbitrage spread between the two exchanges\n",
    "# by subtracting the lower-priced exchange from the higher-priced one\n",
    "arbitrage_spread_late = coinbase_sliced_late - bitstamp_sliced_late\n",
    "\n",
    "# Filter for only those spreads that are profitable (ie greater than 0)\n",
    "filter_arb_late = arbitrage_spread_late > 0\n",
    "print ('Profitable spread stats (greater than 0) from December 19, 2017 (Late)')\n",
    "profit_late = arbitrage_spread_late.loc[filter_arb_late]\n",
    "profit_late.describe()\n"
   ]
  },
  {
   "cell_type": "code",
   "execution_count": null,
   "metadata": {},
   "outputs": [],
   "source": [
    "# Calculate the spread returns for early date by dividing \n",
    "# the instances when the arbitrage spread is positive (> 0) by the price of Bitcoin \n",
    "# from lower priced exchage (Bitstamp) and review resulting dataframe\n",
    "spread_return_early = profit_early/bitstamp['Close']\n",
    "spread_return_early = spread_return_early.dropna()\n",
    "spread_return_early"
   ]
  },
  {
   "cell_type": "code",
   "execution_count": null,
   "metadata": {},
   "outputs": [],
   "source": [
    "# Calculate the spread returns for middle date by dividing \n",
    "# the instances when the arbitrage spread is positive (> 0) by the price of Bitcoin \n",
    "# from lower priced exchage (Bitstamp) and review resulting dataframe\n",
    "spread_return_mid = profit_mid/bitstamp['Close']\n",
    "spread_return_mid = spread_return_mid.dropna()\n",
    "spread_return_mid"
   ]
  },
  {
   "cell_type": "code",
   "execution_count": null,
   "metadata": {},
   "outputs": [],
   "source": [
    "# Calculate the spread returns for late date by dividing \n",
    "# the instances when the arbitrage spread is positive (> 0) by the price of Bitcoin \n",
    "# from lower priced exchage (Bitstamp) and review resulting dataframe\n",
    "spread_return_late = profit_late/bitstamp['Close']\n",
    "spread_return_late = spread_return_late.dropna()\n",
    "spread_return_late"
   ]
  },
  {
   "cell_type": "code",
   "execution_count": null,
   "metadata": {},
   "outputs": [],
   "source": [
    "# For the date early in the dataset, determine the number of times your trades with positive returns \n",
    "# exceed the 1% minimum threshold (.01) that you need to cover your costs\n",
    "filter_profit = spread_return_early > 0.01\n",
    "profitable_trades_early = spread_return_early.loc[filter_profit]\n",
    "\n",
    "# Review the first five profitable trades\n",
    "print(f'''Profitable (> 1%) trades on April 15, 2017\n",
    "      {profitable_trades_early.head()}''')\n",
    "profitable_trades_early.describe()"
   ]
  },
  {
   "cell_type": "code",
   "execution_count": null,
   "metadata": {},
   "outputs": [],
   "source": [
    "# For the date in the middle of the dataset, determine the number of times your trades with positive returns \n",
    "# exceed the 1% minimum threshold (.01) that you need to cover your costs\n",
    "filter_profit = spread_return_mid > 0.01\n",
    "profitable_trades_mid = spread_return_mid.loc[filter_profit]\n",
    "\n",
    "# Review the first five profitable trades\n",
    "print(f'''Profitable (> 1%) trades on December 7, 2017\n",
    "      {profitable_trades_mid.head()}''')\n"
   ]
  },
  {
   "cell_type": "code",
   "execution_count": null,
   "metadata": {},
   "outputs": [],
   "source": [
    "# For the date late in the dataset, determine the number of times your trades with positive returns \n",
    "# exceed the 1% minimum threshold (.01) that you need to cover your costs\n",
    "filter_profit = spread_return_late > 0.01\n",
    "profitable_trades_late = spread_return_late.loc[filter_profit]\n",
    "\n",
    "# Review the first five profitable trades\n",
    "print(f'''Profitable (> 1%) trades on Decemeber 19, 2017\n",
    "      {profitable_trades_late.head()}''')\n",
    "\n"
   ]
  },
  {
   "cell_type": "code",
   "execution_count": null,
   "metadata": {},
   "outputs": [],
   "source": [
    "# For the date early in the dataset, generate the summary statistics for the profitable trades\n",
    "# or you trades where the spread returns are are greater than 1%\n",
    "# YOUR CODE HERE\n",
    "print(f'''Early\n",
    "        {profitable_trades_early.describe()}\n",
    "        \n",
    "***************************************************        \n",
    "Mid\n",
    "        {profitable_trades_mid.describe()}\n",
    "        \n",
    "***************************************************           \n",
    "Late\n",
    "        {profitable_trades_late.describe()}''')"
   ]
  },
  {
   "cell_type": "code",
   "execution_count": null,
   "metadata": {},
   "outputs": [],
   "source": [
    "# For the date early in the dataset, calculate the potential profit per trade in dollars \n",
    "# Multiply the profitable trades by the cost of the Bitcoin that was purchased\n",
    "profit_per_trade_early = profitable_trades_early * bitstamp['Close']\n",
    "\n",
    "# Drop any missing values from the profit DataFrame\n",
    "profit_per_trade_early = profit_per_trade_early.dropna()\n",
    "\n",
    "# View the early profit DataFrame\n",
    "profit_per_trade_early\n"
   ]
  },
  {
   "cell_type": "code",
   "execution_count": null,
   "metadata": {},
   "outputs": [],
   "source": [
    "# For the date in the middle of the dataset, calculate the potential profit per trade in dollars \n",
    "# Multiply the profitable trades by the cost of the Bitcoin that was purchased\n",
    "profit_per_trade_mid = profitable_trades_mid * bitstamp['Close']\n",
    "\n",
    "# Drop any missing values from the profit DataFrame\n",
    "profit_per_trade_mid = profit_per_trade_mid.dropna()\n",
    "\n",
    "# View the early profit DataFrame\n",
    "profit_per_trade_mid\n"
   ]
  },
  {
   "cell_type": "code",
   "execution_count": null,
   "metadata": {},
   "outputs": [],
   "source": [
    "# For the date late in the dataset, calculate the potential profit per trade in dollars \n",
    "# Multiply the profitable trades by the cost of the Bitcoin that was purchased\n",
    "profit_per_trade_late = profitable_trades_late * bitstamp['Close']\n",
    "\n",
    "# Drop any missing values from the profit DataFrame\n",
    "profit_per_trade_late = profit_per_trade_late.dropna()\n",
    "\n",
    "# View the early profit DataFrame\n",
    "profit_per_trade_late"
   ]
  },
  {
   "cell_type": "code",
   "execution_count": null,
   "metadata": {},
   "outputs": [],
   "source": [
    "# Generate the summary statistics for the early profit per trade DataFrame\n",
    "print(f'''Early\n",
    "        {profit_per_trade_early.describe()}\n",
    "        \n",
    "***************************************************        \n",
    "Mid\n",
    "        {profit_per_trade_mid.describe()}\n",
    "        \n",
    "***************************************************           \n",
    "Late\n",
    "        {profit_per_trade_late.describe()}''')"
   ]
  },
  {
   "cell_type": "code",
   "execution_count": null,
   "metadata": {},
   "outputs": [],
   "source": [
    "# Plot the results for the early profit per trade DataFrame\n",
    "profit_per_trade_early.plot(title='Profit Per Trade on April 15, 2017 on Bitstamp - Coinbase Arbitrage', figsize=(16, 8), \n",
    "                            xlabel='Timestamps (1 minute precision)', ylabel='Profit per trade in Dollars')"
   ]
  },
  {
   "cell_type": "code",
   "execution_count": null,
   "metadata": {},
   "outputs": [],
   "source": [
    "# Plot the results for the mid profit per trade DataFrame\n",
    "profit_per_trade_mid.plot(title='Profit Per Trade on December 7, 2017 on Bitstamp - Coinbase Arbitrage', figsize=(16,8), \n",
    "                            xlabel='Timestamps (1 minute precision)', ylabel='Profit per trade in Dollars')"
   ]
  },
  {
   "cell_type": "code",
   "execution_count": null,
   "metadata": {},
   "outputs": [],
   "source": [
    "# Plot the results for the late profit per trade DataFrame\n",
    "profit_per_trade_late.plot(title='Profit Per Trade on December 19, 2017 on Bitstamp - Coinbase Arbitrage', figsize=(16,8), \n",
    "                            xlabel='Timestamps (1 minute precision)', ylabel='Profit per trade in Dollars')"
   ]
  },
  {
   "cell_type": "code",
   "execution_count": null,
   "metadata": {},
   "outputs": [],
   "source": [
    "# Calculate the sum of the potential profits for the early profit per trade DataFrame\n",
    "sum_profit_early = profit_per_trade_early.sum()\n",
    "print(f'Potential Profits on April 15, 2017 : ${round(sum_profit_early, 2)}')"
   ]
  },
  {
   "cell_type": "code",
   "execution_count": null,
   "metadata": {},
   "outputs": [],
   "source": [
    "# Calculate the sum of the potential profits for the middle profit per trade DataFrame\n",
    "sum_profit_mid = profit_per_trade_mid.sum()\n",
    "print(f'Potential Profits on December 7, 2017 : ${round(sum_profit_mid, 2)}')"
   ]
  },
  {
   "cell_type": "code",
   "execution_count": null,
   "metadata": {},
   "outputs": [],
   "source": [
    "# Calculate the sum of the potential profits for the late profit per trade DataFrame\n",
    "# YOUR CODE HERE\n",
    "sum_profit_late = profit_per_trade_late.sum()\n",
    "print(f'Potential Profits on December 19, 2017 : ${round(sum_profit_late, 2)}')"
   ]
  },
  {
   "cell_type": "code",
   "execution_count": null,
   "metadata": {},
   "outputs": [],
   "source": [
    "# calculate cumulative early time period profits, store result in variable, and plot line chart\n",
    "cumulative_profit_early = profit_per_trade_early.cumsum()\n",
    "cumulative_profit_early.plot(title='Increasing profits during the day of April 15, 2017', figsize=(16,8), \n",
    "                            xlabel='Timestamps (1 minute precision)', ylabel='Total Profit in Dollars')\n"
   ]
  },
  {
   "cell_type": "code",
   "execution_count": null,
   "metadata": {},
   "outputs": [],
   "source": [
    "# calculate cumulative mid time period profits, store result in variable, and plot line chart\n",
    "cumulative_profit_mid = profit_per_trade_mid.cumsum()\n",
    "cumulative_profit_mid.plot(title='Increasing profits during the day of December 7, 2017', figsize=(16,8), \n",
    "                            xlabel='Timestamps (1 minute precision)', ylabel='Total Profit in Dollars (Millions of dollars)', \n",
    "                           ylim=(0,1300000), yticks=(0,250000,500000,750000,1000000, 1250000))\n"
   ]
  },
  {
   "cell_type": "code",
   "execution_count": null,
   "metadata": {},
   "outputs": [],
   "source": [
    "# calculate cumulative late time period profits, store result in variable, and plot line chart\n",
    "cumulative_profit_late = profit_per_trade_late.cumsum()\n",
    "cumulative_profit_late.plot(title='Increasing profits during the day of December 19, 2017', figsize=(16,8), \n",
    "                            xlabel='Timestamps (1 minute precision)', ylabel='Total Profit in Dollars')\n"
   ]
  },
  {
   "cell_type": "markdown",
   "metadata": {},
   "source": [
    "**Question:** After reviewing the profit information across each date from the different time periods, can you identify any patterns or trends?\n",
    "    \n",
    "**Answer:** Early on in the adoption of cryptocurries, there were some very profitable arbitrage opportunities. On December 7, 2017 a sufficiently designed trading algorithm could have made over 1 million USD tradingly purely on the difference between Coinbase and Bitstamp prices. As Bitcoin adoption increased, theses opportunities to profit on arbitrage decreased. As of the latest data in 2019 it appears these opportunities to significiantly profit on arbitrage no longer exist. My hypothesis is that these opportunities may exist for alt coins that are under the top 100 market cap ranking, though many centralized exchanges charge fees that all but wipe out any chance for arbitrage."
   ]
  }
 ],
 "metadata": {
  "kernelspec": {
   "display_name": "Python 3",
   "language": "python",
   "name": "python3"
  },
  "language_info": {
   "codemirror_mode": {
    "name": "ipython",
    "version": 3
   },
   "file_extension": ".py",
   "mimetype": "text/x-python",
   "name": "python",
   "nbconvert_exporter": "python",
   "pygments_lexer": "ipython3",
   "version": "3.7.9"
  }
 },
 "nbformat": 4,
 "nbformat_minor": 4
}
